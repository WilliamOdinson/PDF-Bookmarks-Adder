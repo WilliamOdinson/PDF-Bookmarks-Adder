{
 "cells": [
  {
   "cell_type": "code",
   "execution_count": null,
   "metadata": {},
   "outputs": [],
   "source": [
    "try:\n",
    "    import fitz  # PyMuPDF\n",
    "except ImportError:\n",
    "    !pip install pymupdf\n",
    "    import fitz"
   ]
  },
  {
   "cell_type": "code",
   "execution_count": null,
   "metadata": {},
   "outputs": [],
   "source": [
    "def parse_bookmarks_from_md(txt_path, offset):\n",
    "    \"\"\"\n",
    "    Parses bookmark information from a Markdown formatted text file.\n",
    "\n",
    "    This function reads a Markdown file where bookmarks are presented as multi-level headers. \n",
    "    Each header is followed by an \"@\" symbol and a page number.\n",
    "    The level of the bookmark is determined by the number of hash symbols `#` preceding the title.\n",
    "\n",
    "    Args:\n",
    "        txt_path (str): The path to the Markdown file to be parsed.\n",
    "        offset (int): Page number offset. This offset is added to each parsed page number.\n",
    "\n",
    "    Returns:\n",
    "        list: A list where each element is another list containing the level, \n",
    "        title, and page number (with offset applied).\n",
    "        For example: [[1, 'Chapter 1', 10], [2, 'Section 1.1', 12]],\n",
    "        where 1 and 2 represent the bookmark's level, \n",
    "        'Chapter 1' and 'Section 1.1' are titles, 10 and 12 are page numbers.\n",
    "    \"\"\"\n",
    "    bookmarks = []  # Used to store parsed bookmark information\n",
    "    with open(txt_path, 'r', encoding='utf-8') as file:  # Open the file in read mode\n",
    "        for line in file:  # Iterate through each line in the file\n",
    "            # Remove whitespace from the beginning and end of the line\n",
    "            stripped_line = line.strip()\n",
    "            if stripped_line:  # If the processed line is not empty, continue processing\n",
    "                # Determine the level by counting the number of hash symbols (#) at the beginning of the line\n",
    "                # The number of hash symbols before the first space is the level\n",
    "                level = stripped_line.count('#', 0, stripped_line.find(' '))\n",
    "                if level > 0:  # If hash symbols are present, it's considered a title line\n",
    "                    # Remove hash symbols and spaces, then split title and page number\n",
    "                    # Remove level identifiers and leading spaces\n",
    "                    title_page_part = stripped_line[level:].strip()\n",
    "                    # Split title and page number by the \"@\" symbol\n",
    "                    title, page = title_page_part.split('@')\n",
    "                    # Add parsed information to the list\n",
    "                    bookmarks.append(\n",
    "                        [level, title.strip(), int(page) + offset])\n",
    "    return bookmarks  # Return the list of parsed bookmark information"
   ]
  },
  {
   "cell_type": "code",
   "execution_count": null,
   "metadata": {},
   "outputs": [],
   "source": [
    "def add_bookmarks_to_pdf(pdf_path, output_pdf_path, bookmarks):\n",
    "    \"\"\"\n",
    "    Adds bookmark information to the specified PDF file and saves it to a new file path.\n",
    "\n",
    "    Args:\n",
    "        pdf_path (str): The path to the source PDF file.\n",
    "        output_pdf_path (str): The path where the PDF file with added bookmarks will be saved.\n",
    "        bookmarks (list): A list of bookmark information, where each bookmark is a list \n",
    "        containing level, title, and page number.      \n",
    "    \"\"\"\n",
    "    # Open the PDF file\n",
    "    doc = fitz.open(pdf_path)\n",
    "\n",
    "    # Set the document's table of contents (TOC) to the provided list of bookmarks\n",
    "    # PyMuPDF's set_toc method accepts a list, where each element is also a list representing a bookmark.\n",
    "    # Each bookmark list contains a level, a title, and a page number.\n",
    "    # Note: Page numbers start at 0, so the actual page number \n",
    "    # should be one less than the page number in the bookmarks.\n",
    "    bookmarks = [[level, title, page-1] for level, title, page in bookmarks]\n",
    "    doc.set_toc(bookmarks)\n",
    "\n",
    "    # Save the changes to a new PDF file to avoid overwriting the original file\n",
    "    doc.save(output_pdf_path)\n",
    "    doc.close()  # Close the document\n",
    "    print(f\"Bookmarks have been added to the new PDF file: {output_pdf_path}\")"
   ]
  },
  {
   "cell_type": "code",
   "execution_count": null,
   "metadata": {},
   "outputs": [],
   "source": [
    "# Usage Example\n",
    "bookmarks_md_path = \"./input/Example.md\"  # Path to the bookmarks Markdown file\n",
    "pdf_path = \"./input/Example.pdf\"  # Source PDF file path\n",
    "output_pdf_path = \"./output/Example.pdf\"  # Output PDF file path\n",
    "# If you need to adjust your bookmark pages\n",
    "# (for example, if the page numbers displayed by the PDF reader\n",
    "# differ from the actual page numbers), set this offset\n",
    "offset = 11\n",
    "\n",
    "# Parse bookmarks\n",
    "bookmarks = parse_bookmarks_from_md(bookmarks_md_path, offset)\n",
    "\n",
    "# Add bookmarks to PDF\n",
    "add_bookmarks_to_pdf(pdf_path, output_pdf_path, bookmarks)"
   ]
  }
 ],
 "metadata": {
  "kernelspec": {
   "display_name": "Python 3",
   "language": "python",
   "name": "python3"
  },
  "language_info": {
   "codemirror_mode": {
    "name": "ipython",
    "version": 3
   },
   "file_extension": ".py",
   "mimetype": "text/x-python",
   "name": "python",
   "nbconvert_exporter": "python",
   "pygments_lexer": "ipython3",
   "version": "3.11.8"
  }
 },
 "nbformat": 4,
 "nbformat_minor": 2
}
