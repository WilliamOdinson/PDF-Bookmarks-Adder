{
 "cells": [
  {
   "cell_type": "code",
   "execution_count": null,
   "metadata": {},
   "outputs": [],
   "source": [
    "try:\n",
    "    import fitz  # PyMuPDF\n",
    "except ImportError:\n",
    "    !pip install pymupdf\n",
    "    import fitz"
   ]
  },
  {
   "cell_type": "code",
   "execution_count": null,
   "metadata": {},
   "outputs": [],
   "source": [
    "def parse_bookmarks_from_md(txt_path, offset):\n",
    "    \"\"\"\n",
    "    从Markdown格式的文本文件中解析书签信息。\n",
    "    \n",
    "    该函数读取一个Markdown文件，其中书签以多级标题的形式呈现。每个标题后面紧跟着一个\"@\"符号和页码。\n",
    "    根据标题前的井号数量来确定书签的层级。\n",
    "\n",
    "    Args:\n",
    "        txt_path (str): 需要解析的Markdown文件的路径。\n",
    "        offset (int): 页码偏移量。对每个解析出来的页码值会增加这个偏移量。\n",
    "\n",
    "    Returns:\n",
    "        list: 一个列表，每个元素是另一个列表，包含层级、标题和页码（已加上偏移量）。\n",
    "    \"\"\"\n",
    "    bookmarks = []  # 用于存储解析出来的书签信息\n",
    "    with open(txt_path, 'r', encoding='utf-8') as file:  # 以只读模式打开文件\n",
    "        for line in file:  # 遍历文件中的每一行\n",
    "            stripped_line = line.strip()  # 去掉行首行尾的空白字符\n",
    "            if stripped_line:  # 如果处理后的行不为空，则继续处理\n",
    "                # 计算行开始的井号(#)数量来确定层级\n",
    "                level = stripped_line.count('#', 0, stripped_line.find(' '))  # 井号后的第一个空格之前的井号数量为层级\n",
    "                if level > 0:  # 如果存在井号，则认为是一个标题行\n",
    "                    # 移除井号和空格，然后分割标题和页码\n",
    "                    title_page_part = stripped_line[level:].strip()  # 移除层级标识符和前置空格\n",
    "                    title, page = title_page_part.split('@')  # 按\"@\"符号分割标题和页码\n",
    "                    bookmarks.append([level, title.strip(), int(page) + offset])  # 将解析出的信息添加到列表中\n",
    "    return bookmarks  # 返回解析出的书签信息列表\n"
   ]
  },
  {
   "cell_type": "code",
   "execution_count": null,
   "metadata": {},
   "outputs": [],
   "source": [
    "def add_bookmarks_to_pdf(pdf_path, output_pdf_path, bookmarks):\n",
    "    \"\"\"\n",
    "    将书签信息添加到指定的PDF文件中，并保存到新的文件路径。\n",
    "\n",
    "    Args:\n",
    "        pdf_path (str): 源PDF文件的路径。\n",
    "        output_pdf_path (str): 添加了书签后的PDF文件保存路径。\n",
    "        bookmarks (list): 书签信息列表，每个书签是一个包含层级、标题和页码的列表。\n",
    "                          例如：[[1, 'Chapter 1', 10], [2, 'Section 1.1', 12]]，\n",
    "                          其中1和2表示书签的层级，'Chapter 1'和'Section 1.1'是标题，10和12是页码。\n",
    "    \"\"\"\n",
    "    # 打开PDF文件\n",
    "    doc = fitz.open(pdf_path)\n",
    "\n",
    "    # 设置文档的目录（TOC）为提供的书签列表\n",
    "    # PyMuPDF的set_toc方法接受一个列表，其中每个元素也是一个列表，表示一个书签。\n",
    "    # 每个书签列表包含层级(level), 标题(title), 页码(page)。\n",
    "    # 注意：页码从0开始计数，所以实际页码应该是书签中页码减一。\n",
    "    bookmarks = [[level, title, page-1] for level, title, page in bookmarks]\n",
    "    doc.set_toc(bookmarks)\n",
    "\n",
    "    # 保存更改到新的PDF文件中，以防覆盖原文件\n",
    "    doc.save(output_pdf_path)\n",
    "    doc.close()  # 关闭文档\n",
    "    print(f\"书签已添加到新的PDF文件中：{output_pdf_path}\")"
   ]
  },
  {
   "cell_type": "code",
   "execution_count": null,
   "metadata": {},
   "outputs": [],
   "source": [
    "# 使用示例\n",
    "bookmarks_md_path = \"./input/Example.md\"  # 书签Markdown文件路径\n",
    "pdf_path = \"./input/Example.pdf\"  # 源PDF文件路径\n",
    "output_pdf_path = \"./output/Example.pdf\"  # 输出PDF文件路径\n",
    "offset = 0  # 如果你的书签页码需要调整（例如，PDF阅读器显示的页码与实际页码有偏差），设置这个偏移量\n",
    "\n",
    "# 解析书签\n",
    "bookmarks = parse_bookmarks_from_md(bookmarks_md_path, offset)\n",
    "\n",
    "# 添加书签到PDF\n",
    "add_bookmarks_to_pdf(pdf_path, output_pdf_path, bookmarks)"
   ]
  }
 ],
 "metadata": {
  "kernelspec": {
   "display_name": "Python 3",
   "language": "python",
   "name": "python3"
  },
  "language_info": {
   "codemirror_mode": {
    "name": "ipython",
    "version": 3
   },
   "file_extension": ".py",
   "mimetype": "text/x-python",
   "name": "python",
   "nbconvert_exporter": "python",
   "pygments_lexer": "ipython3",
   "version": "3.11.8"
  }
 },
 "nbformat": 4,
 "nbformat_minor": 2
}
